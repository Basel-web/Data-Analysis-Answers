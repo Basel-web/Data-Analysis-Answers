{
 "cells": [
  {
   "cell_type": "code",
   "execution_count": null,
   "metadata": {},
   "outputs": [],
   "source": [
    "power = lambda x, y: x ** y\n",
    "triple = lambda a: a * 3\n",
    "is_even = lambda a: a % 2 == 0\n",
    "\n",
    "\n",
    "# Using the power lambda function\n",
    "result_power = power(2, 3)  # Calculates 2^3\n",
    "print(result_power)  # Output will be 8\n",
    "\n",
    "# Using the triple lambda function\n",
    "result_triple = triple(5)  # Calculates 5 * 3\n",
    "print(result_triple)  # Output will be 15\n",
    "\n",
    "# Using the is_even lambda function\n",
    "is_even_result = is_even(4)  # Checks if 4 is even\n",
    "print(is_even_result)  # Output will be True\n"
   ]
  },
  {
   "cell_type": "markdown",
   "metadata": {},
   "source": [
    "Lists"
   ]
  },
  {
   "cell_type": "code",
   "execution_count": null,
   "metadata": {},
   "outputs": [],
   "source": [
    "my_list = list(range(1, 6))\n",
    "print(my_list)"
   ]
  },
  {
   "cell_type": "code",
   "execution_count": null,
   "metadata": {},
   "outputs": [],
   "source": [
    "third_element = my_list[2]  # Lists are 0-based, so the third element is at index 2\n",
    "print(third_element)"
   ]
  },
  {
   "cell_type": "code",
   "execution_count": null,
   "metadata": {},
   "outputs": [],
   "source": [
    "my_list = [10, 20, 30, 40, 50]\n",
    "my_list.append(6)\n",
    "print(my_list)"
   ]
  },
  {
   "cell_type": "code",
   "execution_count": null,
   "metadata": {},
   "outputs": [],
   "source": [
    "new_list = my_list[:3]  # Slice from the beginning up to (but not including) index 3\n",
    "print(new_list)"
   ]
  },
  {
   "cell_type": "code",
   "execution_count": null,
   "metadata": {},
   "outputs": [],
   "source": [
    "squares = [x ** 2 for x in range(1, 6)]\n",
    "print(squares)"
   ]
  },
  {
   "cell_type": "code",
   "execution_count": null,
   "metadata": {},
   "outputs": [],
   "source": [
    "my_list.remove(40)\n",
    "print(my_list)"
   ]
  },
  {
   "cell_type": "code",
   "execution_count": null,
   "metadata": {},
   "outputs": [],
   "source": [
    "my_list.sort()\n",
    "print(my_list)\n",
    "\n",
    "sorted_list = sorted(my_list)\n",
    "print(sorted_list)"
   ]
  },
  {
   "cell_type": "code",
   "execution_count": null,
   "metadata": {},
   "outputs": [],
   "source": [
    "#to reverse a list first sort it the use reverse\n",
    "print(sorted_list)\n",
    "sorted_list.reverse()\n",
    "print(sorted_list)"
   ]
  },
  {
   "cell_type": "code",
   "execution_count": null,
   "metadata": {},
   "outputs": [],
   "source": [
    "def element_exists(my_list, element):\n",
    "    return element in my_list\n",
    "\n",
    "my_list = [10, 20, 30, 40, 50]\n",
    "print(element_exists(my_list, 30))  # True\n",
    "print(element_exists(my_list, 60))  # False\n"
   ]
  },
  {
   "cell_type": "code",
   "execution_count": null,
   "metadata": {},
   "outputs": [],
   "source": [
    "nested_list = [[1, 2, 3], [4, 5, 6]]\n",
    "element = nested_list[1][2]  # Access the third element of the second inner list\n",
    "print(element)\n"
   ]
  },
  {
   "cell_type": "code",
   "execution_count": null,
   "metadata": {},
   "outputs": [],
   "source": [
    "list1 = [1, 2, 3]\n",
    "list2 = [4, 5, 6]\n",
    "combined_list = list1 + list2\n",
    "print(combined_list)"
   ]
  },
  {
   "cell_type": "markdown",
   "metadata": {},
   "source": [
    "Dictionary"
   ]
  },
  {
   "cell_type": "code",
   "execution_count": null,
   "metadata": {},
   "outputs": [],
   "source": [
    "empty_dict = {}"
   ]
  },
  {
   "cell_type": "code",
   "execution_count": null,
   "metadata": {},
   "outputs": [],
   "source": [
    "# Create an empty dictionary\n",
    "my_dict = {}\n",
    "\n",
    "# Add the key-value pair\n",
    "my_dict[\"name\"] = \"John\"\n",
    "\n",
    "# Now, my_dict contains the key-value pair {\"name\": \"John\"}\n",
    "print(my_dict)"
   ]
  },
  {
   "cell_type": "code",
   "execution_count": null,
   "metadata": {},
   "outputs": [],
   "source": [
    "person = {\"name\": \"Alice\", \"age\": 30}\n",
    "\n",
    "# Access the value associated with the key \"age\"\n",
    "age = person[\"age\"]\n",
    "\n",
    "# Print the age\n",
    "print(age)\n"
   ]
  },
  {
   "cell_type": "code",
   "execution_count": null,
   "metadata": {},
   "outputs": [],
   "source": [
    "# Create a dictionary\n",
    "person = {\"name\": \"Alice\", \"age\": 30}\n",
    "\n",
    "# Update the value associated with the key \"age\"\n",
    "person[\"age\"] = 35\n",
    "\n",
    "# Now, the dictionary looks like this: {\"name\": \"Alice\", \"age\": 35}\n",
    "print(person)\n"
   ]
  },
  {
   "cell_type": "code",
   "execution_count": null,
   "metadata": {},
   "outputs": [],
   "source": [
    "def key_exists(my_dict, key_to_check):\n",
    "    # Use the 'in' operator to check if the key exists in the dictionary\n",
    "    if key_to_check in my_dict:\n",
    "        return True\n",
    "    else:\n",
    "        return False\n",
    "\n",
    "# Example usage:\n",
    "person = {\"name\": \"Alice\", \"age\": 30}\n",
    "\n",
    "# Check if the key \"age\" exists in the 'person' dictionary\n",
    "if key_exists(person, \"age\"):\n",
    "    print(\"The key 'age' exists in the dictionary.\")\n",
    "else:\n",
    "    print(\"The key 'age' does not exist in the dictionary.\")\n"
   ]
  },
  {
   "cell_type": "code",
   "execution_count": null,
   "metadata": {},
   "outputs": [],
   "source": [
    "# Create a dictionary\n",
    "my_dict = {\"name\": \"Alice\", \"age\": 30, \"city\": \"New York\"}\n",
    "\n",
    "# Remove and get the value associated with the key \"age\" using 'pop()'\n",
    "removed_age = my_dict.pop(\"age\")\n",
    "\n",
    "# The dictionary no longer contains the key \"age\"\n",
    "print(my_dict)\n",
    "# The removed value is stored in 'removed_age'\n",
    "print(\"Removed age:\", removed_age)\n"
   ]
  },
  {
   "cell_type": "code",
   "execution_count": null,
   "metadata": {},
   "outputs": [],
   "source": [
    "# Create a dictionary\n",
    "person = {\"name\": \"Alice\", \"age\": 30, \"city\": \"New York\"}\n",
    "\n",
    "# Iterate over keys and values using a for loop\n",
    "for key, value in person.items():\n",
    "    print(f\"Key: {key}, Value: {value}\")\n"
   ]
  },
  {
   "cell_type": "code",
   "execution_count": null,
   "metadata": {},
   "outputs": [],
   "source": [
    "# Create a dictionary\n",
    "my_dict = {\"name\": \"Alice\", \"age\": 30, \"city\": \"New York\"}\n",
    "\n",
    "# Calculate the number of key-value pairs in the dictionary\n",
    "dict_length = len(my_dict)\n",
    "\n",
    "# Print the length of the dictionary\n",
    "print(\"Number of key-value pairs:\", dict_length)\n"
   ]
  }
 ],
 "metadata": {
  "kernelspec": {
   "display_name": "base",
   "language": "python",
   "name": "python3"
  },
  "language_info": {
   "codemirror_mode": {
    "name": "ipython",
    "version": 3
   },
   "file_extension": ".py",
   "mimetype": "text/x-python",
   "name": "python",
   "nbconvert_exporter": "python",
   "pygments_lexer": "ipython3",
   "version": "3.11.4"
  },
  "orig_nbformat": 4
 },
 "nbformat": 4,
 "nbformat_minor": 2
}
