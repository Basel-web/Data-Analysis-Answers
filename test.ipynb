{
 "cells": [
  {
   "cell_type": "code",
   "execution_count": 10,
   "metadata": {},
   "outputs": [],
   "source": [
    "import requests\n",
    "from bs4 import BeautifulSoup"
   ]
  },
  {
   "cell_type": "code",
   "execution_count": 9,
   "metadata": {},
   "outputs": [],
   "source": [
    "url = 'https://diwanegypt.com/product-category/books/english-books/'\n",
    "response = requests.get(url)  "
   ]
  },
  {
   "cell_type": "code",
   "execution_count": 11,
   "metadata": {},
   "outputs": [
    {
     "data": {
      "text/plain": [
       "str"
      ]
     },
     "execution_count": 11,
     "metadata": {},
     "output_type": "execute_result"
    }
   ],
   "source": [
    "type(response.text)"
   ]
  },
  {
   "cell_type": "code",
   "execution_count": 12,
   "metadata": {},
   "outputs": [],
   "source": [
    "data = BeautifulSoup(response.text,'html.parser')"
   ]
  },
  {
   "cell_type": "code",
   "execution_count": 14,
   "metadata": {},
   "outputs": [
    {
     "data": {
      "text/plain": [
       "'English Books'"
      ]
     },
     "execution_count": 14,
     "metadata": {},
     "output_type": "execute_result"
    }
   ],
   "source": [
    "title = data.find('h1')\n",
    "title.text"
   ]
  },
  {
   "cell_type": "code",
   "execution_count": 20,
   "metadata": {},
   "outputs": [
    {
     "data": {
      "text/plain": [
       "'\\n\\nThe Heroes of Olympus SeriesRick Riordan\\nEGP265.00 – EGP325.00\\nView products\\n\\nThe Trials of Apollo SeriesRick Riordan\\nEGP315.00 – EGP425.00\\nView products\\n\\nKane Chronicles SeriesRick Riordan\\nEGP325.00\\nView products\\n\\nA Gift of GeologyColin D. Reader\\nEGP500.00\\nAdd to cart\\n\\nRamessesSusanna Thomas\\nEGP500.00\\nAdd to cart\\n\\nTutankhamunAidan Dodson\\nEGP750.00\\nAdd to cart\\n\\nIslamic Cairo in MapsYasser M. Ayad\\nEGP300.00\\nAdd to cart\\n\\nSuper VisionSherife AbdelMessih\\nEGP525.00\\nAdd to cart\\n\\nRun Rose RunDolly Parton, James Patterson\\nEGP375.00\\nAdd to cart\\n\\nRevengeTom Bower\\nEGP470.00\\nAdd to cart\\n\\nWhaleCheon Myeong-kwan, Chi-Young K\\nEGP715.00\\nAdd to cart\\n\\nLonely Planet EgyptJessica Lee, Anthony Sattin\\nEGP815.00\\nAdd to cart\\n\\nBirnam WoodEleanor Catton\\nEGP715.00\\nAdd to cart\\n\\nChain of ThornsCassandra Clare\\nEGP715.00\\nAdd to cart\\n\\nMaameJessica George\\nEGP715.00\\nAdd to cart\\n\\nYou Be MotherMeg Mason\\nEGP425.00\\nAdd to cart\\n\\nPromises We Meant To KeepMonica Murphy\\nEGP470.00\\nAdd to cart\\n\\nA Not So Meet CuteMeghan Quinn\\nEGP470.00\\nAdd to cart\\n\\nThe Stranger in the LifeboatMitch Albom\\nEGP470.00\\nAdd to cart\\n\\nMy Name is RedOrhan Pamuk, Erdag Goknar\\nEGP425.00\\nAdd to cart\\n\\nArtAndrew Graham-Dixon\\nEGP1,940.00\\nAdd to cart\\n\\nTimelines of ArtDk\\nEGP1,205.00\\nAdd to cart\\n\\nDaughter of the Moon GoddessSue Lynn Tan\\nEGP425.00\\nAdd to cart\\n\\nThe Walls Inside UsSandra Abdalla\\nEGP185.00\\nAdd to cart\\n\\nA Touch of MaliceScarlett St. Clair\\nEGP485.00\\nAdd to cart\\n\\nA Touch of RuinScarlett St. Clair\\nEGP485.00\\nAdd to cart\\n\\nA Touch of DarknessScarlett St. Clair\\nEGP485.00\\nAdd to cart\\n\\nOn TrustHarvard Business Review\\nEGP1,015.00\\nAdd to cart\\n\\nOn Performance ManagementHarvard Business Review\\nEGP1,015.00\\nAdd to cart\\n'"
      ]
     },
     "execution_count": 20,
     "metadata": {},
     "output_type": "execute_result"
    }
   ],
   "source": [
    "ul = data.find('ul' , attrs={'class' : 'products columns-5'})\n",
    "ul.text"
   ]
  },
  {
   "cell_type": "code",
   "execution_count": 21,
   "metadata": {},
   "outputs": [
    {
     "data": {
      "text/plain": [
       "<li class=\"product type-product post-89579 status-publish first instock product_cat-books product_cat-english-books product_cat-fantasy product_cat-young-adults has-post-thumbnail shipping-taxable product-type-grouped\">\n",
       "<a class=\"woocommerce-LoopProduct-link woocommerce-loop-product__link\" href=\"https://diwanegypt.com/product/the-heroes-of-olympus-series/\"><img alt=\"\" class=\"attachment-woocommerce_thumbnail size-woocommerce_thumbnail jetpack-lazy-image\" data-lazy-src=\"https://diwanegypt.com/wp-content/uploads/2023/08/1-450x600.jpg?is-pending-load=1\" decoding=\"async\" height=\"600\" loading=\"lazy\" src=\"https://diwanegypt.com/wp-content/uploads/2023/08/1-450x600.jpg\" srcset=\"data:image/gif;base64,R0lGODlhAQABAIAAAAAAAP///yH5BAEAAAAALAAAAAABAAEAAAIBRAA7\" width=\"450\"/><h2 class=\"woocommerce-loop-product__title\">The Heroes of Olympus Series</h2><span class=\"author\">Rick Riordan</span>\n",
       "<span class=\"price\"><span class=\"woocommerce-Price-amount amount\"><bdi><span class=\"woocommerce-Price-currencySymbol\">EGP</span>265.00</bdi></span> – <span class=\"woocommerce-Price-amount amount\"><bdi><span class=\"woocommerce-Price-currencySymbol\">EGP</span>325.00</bdi></span></span>\n",
       "</a><a aria-describedby=\"\" aria-label=\"View products in the “The Heroes of Olympus Series” group\" class=\"button product_type_grouped\" data-product_id=\"89579\" data-product_sku=\"29082023\" data-quantity=\"1\" href=\"https://diwanegypt.com/product/the-heroes-of-olympus-series/\" rel=\"nofollow\">View products</a></li>"
      ]
     },
     "execution_count": 21,
     "metadata": {},
     "output_type": "execute_result"
    }
   ],
   "source": [
    "firstli = ul.find('li')\n",
    "firstli"
   ]
  },
  {
   "cell_type": "code",
   "execution_count": 24,
   "metadata": {},
   "outputs": [
    {
     "data": {
      "text/plain": [
       "'The Heroes of Olympus Series'"
      ]
     },
     "execution_count": 24,
     "metadata": {},
     "output_type": "execute_result"
    }
   ],
   "source": [
    "first_h2 = firstli.find('h2', attrs={'class' : 'woocommerce-loop-product__title'})\n",
    "first_h2.text"
   ]
  },
  {
   "cell_type": "code",
   "execution_count": 25,
   "metadata": {},
   "outputs": [
    {
     "data": {
      "text/plain": [
       "'Rick Riordan'"
      ]
     },
     "execution_count": 25,
     "metadata": {},
     "output_type": "execute_result"
    }
   ],
   "source": [
    "author_name  = firstli.find('span', attrs={'class' : 'author'})\n",
    "author_name.text"
   ]
  }
 ],
 "metadata": {
  "kernelspec": {
   "display_name": "base",
   "language": "python",
   "name": "python3"
  },
  "language_info": {
   "codemirror_mode": {
    "name": "ipython",
    "version": 3
   },
   "file_extension": ".py",
   "mimetype": "text/x-python",
   "name": "python",
   "nbconvert_exporter": "python",
   "pygments_lexer": "ipython3",
   "version": "3.11.4"
  },
  "orig_nbformat": 4
 },
 "nbformat": 4,
 "nbformat_minor": 2
}
